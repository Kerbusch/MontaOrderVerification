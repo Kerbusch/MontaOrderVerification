{
 "cells": [
  {
   "cell_type": "code",
   "execution_count": null,
   "metadata": {},
   "outputs": [],
   "source": [
    "import numpy as np\n",
    "import os\n",
    "import io\n",
    "import PIL\n",
    "import PIL.Image\n",
    "import PIL.ImageOps\n",
    "from PIL import ImageFont\n",
    "from PIL import Image\n",
    "from PIL import ImageDraw\n",
    "from PIL import ImageOps\n",
    "from PIL import ImageColor\n",
    "import tensorflow as tf\n",
    "import tensorflow_hub as hub\n",
    "import matplotlib.pyplot as plt\n",
    "from keras.layers import *\n",
    "import time\n",
    "import tempfile\n",
    "from urllib.request import urlopen\n",
    "from io import BytesIO\n",
    "from keras.preprocessing import image\n",
    "import numpy as np \n",
    "import urllib\n",
    "import cv2 \n",
    "import os"
   ]
  },
  {
   "cell_type": "code",
   "execution_count": null,
   "metadata": {},
   "outputs": [],
   "source": [
    "train_dataset = tf.keras.utils.image_dataset_from_directory(\"DatasetOOT/Training/\",\n",
    "                                      batch_size=10, shuffle = True, image_size=(300,300))"
   ]
  },
  {
   "cell_type": "code",
   "execution_count": null,
   "metadata": {},
   "outputs": [],
   "source": [
    "validation_dataset = tf.keras.utils.image_dataset_from_directory(\"DatasetOOT/Validation/\",\n",
    "                                                          batch_size=4, image_size=(300,300))"
   ]
  },
  {
   "cell_type": "code",
   "execution_count": null,
   "metadata": {},
   "outputs": [],
   "source": [
    "train_dataset.class_names\n",
    "class_names = train_dataset.class_names\n",
    "print(class_names)"
   ]
  },
  {
   "cell_type": "code",
   "execution_count": null,
   "metadata": {},
   "outputs": [],
   "source": [
    "data_augmentation = tf.keras.Sequential(\n",
    "  [\n",
    "    tf.keras.layers.RandomFlip(\"horizontal\",input_shape=(300,300,3)),\n",
    "    tf.keras.layers.RandomRotation(0.1),\n",
    "    tf.keras.layers.RandomZoom(0.1),\n",
    "    tf.keras.layers.RandomZoom(-0.1),\n",
    "    tf.keras.layers.RandomRotation(0.2),\n",
    "    tf.keras.layers.GaussianNoise(2),\n",
    "    tf.keras.layers.GaussianNoise(1),\n",
    "    tf.keras.layers.RandomBrightness([-0.2, 0.5])\n",
    "  ]\n",
    ")\n",
    "\n",
    "best_callbacks = [tf.keras.callbacks.EarlyStopping(patience = 1000) ,\n",
    "                 tf.keras.callbacks.ModelCheckpoint(filepath=\"OOTTrainedModel/\",monitor=\"val_accuracy\",\n",
    "                    save_best_only=True,\n",
    "                    save_weights_only=False,\n",
    "                    mode=\"auto\","
   ]
  },
  {
   "cell_type": "code",
   "execution_count": null,
   "metadata": {},
   "outputs": [],
   "source": [
    "def build_model(input_shape):\n",
    "    inputs = Input(input_shape)\n",
    "    x = GlobalAveragePooling2D()(x)\n",
    "    x = Dropout(0.2)(x)\n",
    "    x = Dense(4, activation=\"softmax\")(x)\n",
    "    model = tf.keras.models.Model(inputs, x)\n",
    "    return model"
   ]
  },
  {
   "cell_type": "code",
   "execution_count": null,
   "metadata": {},
   "outputs": [],
   "source": [
    "def build_model(input_shape):\n",
    "    inputs = Input(input_shape)\n",
    "    inputs = data_augmentation(inputs)\n",
    "    x = GlobalAveragePooling2D()(x)\n",
    "    x = Dropout(0.2)(x)\n",
    "    x = Dense(2, activation=\"softmax\")(x)\n",
    "    model = tf.keras.models.Model(inputs, x)\n",
    "    return model"
   ]
  },
  {
   "cell_type": "code",
   "execution_count": null,
   "metadata": {},
   "outputs": [],
   "source": [
    "model = build_model((300,300, 3))"
   ]
  },
  {
   "cell_type": "code",
   "execution_count": null,
   "metadata": {},
   "outputs": [],
   "source": [
    "model.fit = model.fit(train_dataset,epochs=10, \n",
    "                      validation_data=validation_dataset, \n",
    "                      shuffle=True)"
   ]
  },
  {
   "cell_type": "code",
   "execution_count": null,
   "metadata": {},
   "outputs": [],
   "source": [
    "model.summary()"
   ]
  }
 ],
 "metadata": {
  "kernelspec": {
   "display_name": "Python 3",
   "language": "python",
   "name": "python3"
  },
  "language_info": {
   "codemirror_mode": {
    "name": "ipython",
    "version": 3
   },
   "file_extension": ".py",
   "mimetype": "text/x-python",
   "name": "python",
   "nbconvert_exporter": "python",
   "pygments_lexer": "ipython3",
   "version": "3.10.9"
  },
  "orig_nbformat": 4
 },
 "nbformat": 4,
 "nbformat_minor": 2
}
